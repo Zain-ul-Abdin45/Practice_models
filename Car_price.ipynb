{
 "cells": [
  {
   "cell_type": "code",
   "execution_count": 5,
   "id": "94831a52",
   "metadata": {},
   "outputs": [],
   "source": [
    "import numpy as np\n",
    "import pandas as pd\n",
    "import matplotlib.pyplot as plt\n",
    "from sklearn import linear_model\n",
    "from sklearn.preprocessing import LabelEncoder\n",
    "from sklearn.preprocessing import MinMaxScaler\n",
    "from sklearn.model_selection import train_test_split\n",
    "from sklearn.tree import DecisionTreeRegressor\n",
    "from sklearn.ensemble import RandomForestRegressor\n",
    "from sklearn.metrics import mean_squared_error"
   ]
  },
  {
   "cell_type": "code",
   "execution_count": 6,
   "id": "10eb9737",
   "metadata": {},
   "outputs": [],
   "source": [
    "data=pd.read_csv('CarPrice_Assignment.csv')"
   ]
  },
  {
   "cell_type": "code",
   "execution_count": 7,
   "id": "b70e934c",
   "metadata": {},
   "outputs": [
    {
     "data": {
      "text/html": [
       "<div>\n",
       "<style scoped>\n",
       "    .dataframe tbody tr th:only-of-type {\n",
       "        vertical-align: middle;\n",
       "    }\n",
       "\n",
       "    .dataframe tbody tr th {\n",
       "        vertical-align: top;\n",
       "    }\n",
       "\n",
       "    .dataframe thead th {\n",
       "        text-align: right;\n",
       "    }\n",
       "</style>\n",
       "<table border=\"1\" class=\"dataframe\">\n",
       "  <thead>\n",
       "    <tr style=\"text-align: right;\">\n",
       "      <th></th>\n",
       "      <th>car_ID</th>\n",
       "      <th>symboling</th>\n",
       "      <th>CarName</th>\n",
       "      <th>fueltype</th>\n",
       "      <th>aspiration</th>\n",
       "      <th>doornumber</th>\n",
       "      <th>carbody</th>\n",
       "      <th>drivewheel</th>\n",
       "      <th>enginelocation</th>\n",
       "      <th>wheelbase</th>\n",
       "      <th>...</th>\n",
       "      <th>enginesize</th>\n",
       "      <th>fuelsystem</th>\n",
       "      <th>boreratio</th>\n",
       "      <th>stroke</th>\n",
       "      <th>compressionratio</th>\n",
       "      <th>horsepower</th>\n",
       "      <th>peakrpm</th>\n",
       "      <th>citympg</th>\n",
       "      <th>highwaympg</th>\n",
       "      <th>price</th>\n",
       "    </tr>\n",
       "  </thead>\n",
       "  <tbody>\n",
       "    <tr>\n",
       "      <th>0</th>\n",
       "      <td>1</td>\n",
       "      <td>3</td>\n",
       "      <td>alfa-romero giulia</td>\n",
       "      <td>gas</td>\n",
       "      <td>std</td>\n",
       "      <td>two</td>\n",
       "      <td>convertible</td>\n",
       "      <td>rwd</td>\n",
       "      <td>front</td>\n",
       "      <td>88.6</td>\n",
       "      <td>...</td>\n",
       "      <td>130</td>\n",
       "      <td>mpfi</td>\n",
       "      <td>3.47</td>\n",
       "      <td>2.68</td>\n",
       "      <td>9.0</td>\n",
       "      <td>111</td>\n",
       "      <td>5000</td>\n",
       "      <td>21</td>\n",
       "      <td>27</td>\n",
       "      <td>13495.0</td>\n",
       "    </tr>\n",
       "    <tr>\n",
       "      <th>1</th>\n",
       "      <td>2</td>\n",
       "      <td>3</td>\n",
       "      <td>alfa-romero stelvio</td>\n",
       "      <td>gas</td>\n",
       "      <td>std</td>\n",
       "      <td>two</td>\n",
       "      <td>convertible</td>\n",
       "      <td>rwd</td>\n",
       "      <td>front</td>\n",
       "      <td>88.6</td>\n",
       "      <td>...</td>\n",
       "      <td>130</td>\n",
       "      <td>mpfi</td>\n",
       "      <td>3.47</td>\n",
       "      <td>2.68</td>\n",
       "      <td>9.0</td>\n",
       "      <td>111</td>\n",
       "      <td>5000</td>\n",
       "      <td>21</td>\n",
       "      <td>27</td>\n",
       "      <td>16500.0</td>\n",
       "    </tr>\n",
       "    <tr>\n",
       "      <th>2</th>\n",
       "      <td>3</td>\n",
       "      <td>1</td>\n",
       "      <td>alfa-romero Quadrifoglio</td>\n",
       "      <td>gas</td>\n",
       "      <td>std</td>\n",
       "      <td>two</td>\n",
       "      <td>hatchback</td>\n",
       "      <td>rwd</td>\n",
       "      <td>front</td>\n",
       "      <td>94.5</td>\n",
       "      <td>...</td>\n",
       "      <td>152</td>\n",
       "      <td>mpfi</td>\n",
       "      <td>2.68</td>\n",
       "      <td>3.47</td>\n",
       "      <td>9.0</td>\n",
       "      <td>154</td>\n",
       "      <td>5000</td>\n",
       "      <td>19</td>\n",
       "      <td>26</td>\n",
       "      <td>16500.0</td>\n",
       "    </tr>\n",
       "    <tr>\n",
       "      <th>3</th>\n",
       "      <td>4</td>\n",
       "      <td>2</td>\n",
       "      <td>audi 100 ls</td>\n",
       "      <td>gas</td>\n",
       "      <td>std</td>\n",
       "      <td>four</td>\n",
       "      <td>sedan</td>\n",
       "      <td>fwd</td>\n",
       "      <td>front</td>\n",
       "      <td>99.8</td>\n",
       "      <td>...</td>\n",
       "      <td>109</td>\n",
       "      <td>mpfi</td>\n",
       "      <td>3.19</td>\n",
       "      <td>3.40</td>\n",
       "      <td>10.0</td>\n",
       "      <td>102</td>\n",
       "      <td>5500</td>\n",
       "      <td>24</td>\n",
       "      <td>30</td>\n",
       "      <td>13950.0</td>\n",
       "    </tr>\n",
       "    <tr>\n",
       "      <th>4</th>\n",
       "      <td>5</td>\n",
       "      <td>2</td>\n",
       "      <td>audi 100ls</td>\n",
       "      <td>gas</td>\n",
       "      <td>std</td>\n",
       "      <td>four</td>\n",
       "      <td>sedan</td>\n",
       "      <td>4wd</td>\n",
       "      <td>front</td>\n",
       "      <td>99.4</td>\n",
       "      <td>...</td>\n",
       "      <td>136</td>\n",
       "      <td>mpfi</td>\n",
       "      <td>3.19</td>\n",
       "      <td>3.40</td>\n",
       "      <td>8.0</td>\n",
       "      <td>115</td>\n",
       "      <td>5500</td>\n",
       "      <td>18</td>\n",
       "      <td>22</td>\n",
       "      <td>17450.0</td>\n",
       "    </tr>\n",
       "  </tbody>\n",
       "</table>\n",
       "<p>5 rows × 26 columns</p>\n",
       "</div>"
      ],
      "text/plain": [
       "   car_ID  symboling                   CarName fueltype aspiration doornumber  \\\n",
       "0       1          3        alfa-romero giulia      gas        std        two   \n",
       "1       2          3       alfa-romero stelvio      gas        std        two   \n",
       "2       3          1  alfa-romero Quadrifoglio      gas        std        two   \n",
       "3       4          2               audi 100 ls      gas        std       four   \n",
       "4       5          2                audi 100ls      gas        std       four   \n",
       "\n",
       "       carbody drivewheel enginelocation  wheelbase  ...  enginesize  \\\n",
       "0  convertible        rwd          front       88.6  ...         130   \n",
       "1  convertible        rwd          front       88.6  ...         130   \n",
       "2    hatchback        rwd          front       94.5  ...         152   \n",
       "3        sedan        fwd          front       99.8  ...         109   \n",
       "4        sedan        4wd          front       99.4  ...         136   \n",
       "\n",
       "   fuelsystem  boreratio  stroke compressionratio horsepower  peakrpm citympg  \\\n",
       "0        mpfi       3.47    2.68              9.0        111     5000      21   \n",
       "1        mpfi       3.47    2.68              9.0        111     5000      21   \n",
       "2        mpfi       2.68    3.47              9.0        154     5000      19   \n",
       "3        mpfi       3.19    3.40             10.0        102     5500      24   \n",
       "4        mpfi       3.19    3.40              8.0        115     5500      18   \n",
       "\n",
       "   highwaympg    price  \n",
       "0          27  13495.0  \n",
       "1          27  16500.0  \n",
       "2          26  16500.0  \n",
       "3          30  13950.0  \n",
       "4          22  17450.0  \n",
       "\n",
       "[5 rows x 26 columns]"
      ]
     },
     "execution_count": 7,
     "metadata": {},
     "output_type": "execute_result"
    }
   ],
   "source": [
    "data.head()"
   ]
  },
  {
   "cell_type": "code",
   "execution_count": 8,
   "id": "f1b322f0",
   "metadata": {},
   "outputs": [
    {
     "name": "stdout",
     "output_type": "stream",
     "text": [
      "<class 'pandas.core.frame.DataFrame'>\n",
      "RangeIndex: 205 entries, 0 to 204\n",
      "Data columns (total 26 columns):\n",
      " #   Column            Non-Null Count  Dtype  \n",
      "---  ------            --------------  -----  \n",
      " 0   car_ID            205 non-null    int64  \n",
      " 1   symboling         205 non-null    int64  \n",
      " 2   CarName           205 non-null    object \n",
      " 3   fueltype          205 non-null    object \n",
      " 4   aspiration        205 non-null    object \n",
      " 5   doornumber        205 non-null    object \n",
      " 6   carbody           205 non-null    object \n",
      " 7   drivewheel        205 non-null    object \n",
      " 8   enginelocation    205 non-null    object \n",
      " 9   wheelbase         205 non-null    float64\n",
      " 10  carlength         205 non-null    float64\n",
      " 11  carwidth          205 non-null    float64\n",
      " 12  carheight         205 non-null    float64\n",
      " 13  curbweight        205 non-null    int64  \n",
      " 14  enginetype        205 non-null    object \n",
      " 15  cylindernumber    205 non-null    object \n",
      " 16  enginesize        205 non-null    int64  \n",
      " 17  fuelsystem        205 non-null    object \n",
      " 18  boreratio         205 non-null    float64\n",
      " 19  stroke            205 non-null    float64\n",
      " 20  compressionratio  205 non-null    float64\n",
      " 21  horsepower        205 non-null    int64  \n",
      " 22  peakrpm           205 non-null    int64  \n",
      " 23  citympg           205 non-null    int64  \n",
      " 24  highwaympg        205 non-null    int64  \n",
      " 25  price             205 non-null    float64\n",
      "dtypes: float64(8), int64(8), object(10)\n",
      "memory usage: 41.8+ KB\n"
     ]
    }
   ],
   "source": [
    "data.info()"
   ]
  },
  {
   "cell_type": "code",
   "execution_count": 9,
   "id": "2594ac34",
   "metadata": {},
   "outputs": [
    {
     "data": {
      "text/plain": [
       "(205, 26)"
      ]
     },
     "execution_count": 9,
     "metadata": {},
     "output_type": "execute_result"
    }
   ],
   "source": [
    "data.shape"
   ]
  },
  {
   "cell_type": "code",
   "execution_count": 10,
   "id": "d284e25f",
   "metadata": {},
   "outputs": [
    {
     "data": {
      "text/html": [
       "<div>\n",
       "<style scoped>\n",
       "    .dataframe tbody tr th:only-of-type {\n",
       "        vertical-align: middle;\n",
       "    }\n",
       "\n",
       "    .dataframe tbody tr th {\n",
       "        vertical-align: top;\n",
       "    }\n",
       "\n",
       "    .dataframe thead th {\n",
       "        text-align: right;\n",
       "    }\n",
       "</style>\n",
       "<table border=\"1\" class=\"dataframe\">\n",
       "  <thead>\n",
       "    <tr style=\"text-align: right;\">\n",
       "      <th></th>\n",
       "      <th>car_ID</th>\n",
       "      <th>symboling</th>\n",
       "      <th>wheelbase</th>\n",
       "      <th>carlength</th>\n",
       "      <th>carwidth</th>\n",
       "      <th>carheight</th>\n",
       "      <th>curbweight</th>\n",
       "      <th>enginesize</th>\n",
       "      <th>boreratio</th>\n",
       "      <th>stroke</th>\n",
       "      <th>compressionratio</th>\n",
       "      <th>horsepower</th>\n",
       "      <th>peakrpm</th>\n",
       "      <th>citympg</th>\n",
       "      <th>highwaympg</th>\n",
       "      <th>price</th>\n",
       "    </tr>\n",
       "  </thead>\n",
       "  <tbody>\n",
       "    <tr>\n",
       "      <th>count</th>\n",
       "      <td>205.000000</td>\n",
       "      <td>205.000000</td>\n",
       "      <td>205.000000</td>\n",
       "      <td>205.000000</td>\n",
       "      <td>205.000000</td>\n",
       "      <td>205.000000</td>\n",
       "      <td>205.000000</td>\n",
       "      <td>205.000000</td>\n",
       "      <td>205.000000</td>\n",
       "      <td>205.000000</td>\n",
       "      <td>205.000000</td>\n",
       "      <td>205.000000</td>\n",
       "      <td>205.000000</td>\n",
       "      <td>205.000000</td>\n",
       "      <td>205.000000</td>\n",
       "      <td>205.000000</td>\n",
       "    </tr>\n",
       "    <tr>\n",
       "      <th>mean</th>\n",
       "      <td>103.000000</td>\n",
       "      <td>0.834146</td>\n",
       "      <td>98.756585</td>\n",
       "      <td>174.049268</td>\n",
       "      <td>65.907805</td>\n",
       "      <td>53.724878</td>\n",
       "      <td>2555.565854</td>\n",
       "      <td>126.907317</td>\n",
       "      <td>3.329756</td>\n",
       "      <td>3.255415</td>\n",
       "      <td>10.142537</td>\n",
       "      <td>104.117073</td>\n",
       "      <td>5125.121951</td>\n",
       "      <td>25.219512</td>\n",
       "      <td>30.751220</td>\n",
       "      <td>13276.710571</td>\n",
       "    </tr>\n",
       "    <tr>\n",
       "      <th>std</th>\n",
       "      <td>59.322565</td>\n",
       "      <td>1.245307</td>\n",
       "      <td>6.021776</td>\n",
       "      <td>12.337289</td>\n",
       "      <td>2.145204</td>\n",
       "      <td>2.443522</td>\n",
       "      <td>520.680204</td>\n",
       "      <td>41.642693</td>\n",
       "      <td>0.270844</td>\n",
       "      <td>0.313597</td>\n",
       "      <td>3.972040</td>\n",
       "      <td>39.544167</td>\n",
       "      <td>476.985643</td>\n",
       "      <td>6.542142</td>\n",
       "      <td>6.886443</td>\n",
       "      <td>7988.852332</td>\n",
       "    </tr>\n",
       "    <tr>\n",
       "      <th>min</th>\n",
       "      <td>1.000000</td>\n",
       "      <td>-2.000000</td>\n",
       "      <td>86.600000</td>\n",
       "      <td>141.100000</td>\n",
       "      <td>60.300000</td>\n",
       "      <td>47.800000</td>\n",
       "      <td>1488.000000</td>\n",
       "      <td>61.000000</td>\n",
       "      <td>2.540000</td>\n",
       "      <td>2.070000</td>\n",
       "      <td>7.000000</td>\n",
       "      <td>48.000000</td>\n",
       "      <td>4150.000000</td>\n",
       "      <td>13.000000</td>\n",
       "      <td>16.000000</td>\n",
       "      <td>5118.000000</td>\n",
       "    </tr>\n",
       "    <tr>\n",
       "      <th>25%</th>\n",
       "      <td>52.000000</td>\n",
       "      <td>0.000000</td>\n",
       "      <td>94.500000</td>\n",
       "      <td>166.300000</td>\n",
       "      <td>64.100000</td>\n",
       "      <td>52.000000</td>\n",
       "      <td>2145.000000</td>\n",
       "      <td>97.000000</td>\n",
       "      <td>3.150000</td>\n",
       "      <td>3.110000</td>\n",
       "      <td>8.600000</td>\n",
       "      <td>70.000000</td>\n",
       "      <td>4800.000000</td>\n",
       "      <td>19.000000</td>\n",
       "      <td>25.000000</td>\n",
       "      <td>7788.000000</td>\n",
       "    </tr>\n",
       "    <tr>\n",
       "      <th>50%</th>\n",
       "      <td>103.000000</td>\n",
       "      <td>1.000000</td>\n",
       "      <td>97.000000</td>\n",
       "      <td>173.200000</td>\n",
       "      <td>65.500000</td>\n",
       "      <td>54.100000</td>\n",
       "      <td>2414.000000</td>\n",
       "      <td>120.000000</td>\n",
       "      <td>3.310000</td>\n",
       "      <td>3.290000</td>\n",
       "      <td>9.000000</td>\n",
       "      <td>95.000000</td>\n",
       "      <td>5200.000000</td>\n",
       "      <td>24.000000</td>\n",
       "      <td>30.000000</td>\n",
       "      <td>10295.000000</td>\n",
       "    </tr>\n",
       "    <tr>\n",
       "      <th>75%</th>\n",
       "      <td>154.000000</td>\n",
       "      <td>2.000000</td>\n",
       "      <td>102.400000</td>\n",
       "      <td>183.100000</td>\n",
       "      <td>66.900000</td>\n",
       "      <td>55.500000</td>\n",
       "      <td>2935.000000</td>\n",
       "      <td>141.000000</td>\n",
       "      <td>3.580000</td>\n",
       "      <td>3.410000</td>\n",
       "      <td>9.400000</td>\n",
       "      <td>116.000000</td>\n",
       "      <td>5500.000000</td>\n",
       "      <td>30.000000</td>\n",
       "      <td>34.000000</td>\n",
       "      <td>16503.000000</td>\n",
       "    </tr>\n",
       "    <tr>\n",
       "      <th>max</th>\n",
       "      <td>205.000000</td>\n",
       "      <td>3.000000</td>\n",
       "      <td>120.900000</td>\n",
       "      <td>208.100000</td>\n",
       "      <td>72.300000</td>\n",
       "      <td>59.800000</td>\n",
       "      <td>4066.000000</td>\n",
       "      <td>326.000000</td>\n",
       "      <td>3.940000</td>\n",
       "      <td>4.170000</td>\n",
       "      <td>23.000000</td>\n",
       "      <td>288.000000</td>\n",
       "      <td>6600.000000</td>\n",
       "      <td>49.000000</td>\n",
       "      <td>54.000000</td>\n",
       "      <td>45400.000000</td>\n",
       "    </tr>\n",
       "  </tbody>\n",
       "</table>\n",
       "</div>"
      ],
      "text/plain": [
       "           car_ID   symboling   wheelbase   carlength    carwidth   carheight  \\\n",
       "count  205.000000  205.000000  205.000000  205.000000  205.000000  205.000000   \n",
       "mean   103.000000    0.834146   98.756585  174.049268   65.907805   53.724878   \n",
       "std     59.322565    1.245307    6.021776   12.337289    2.145204    2.443522   \n",
       "min      1.000000   -2.000000   86.600000  141.100000   60.300000   47.800000   \n",
       "25%     52.000000    0.000000   94.500000  166.300000   64.100000   52.000000   \n",
       "50%    103.000000    1.000000   97.000000  173.200000   65.500000   54.100000   \n",
       "75%    154.000000    2.000000  102.400000  183.100000   66.900000   55.500000   \n",
       "max    205.000000    3.000000  120.900000  208.100000   72.300000   59.800000   \n",
       "\n",
       "        curbweight  enginesize   boreratio      stroke  compressionratio  \\\n",
       "count   205.000000  205.000000  205.000000  205.000000        205.000000   \n",
       "mean   2555.565854  126.907317    3.329756    3.255415         10.142537   \n",
       "std     520.680204   41.642693    0.270844    0.313597          3.972040   \n",
       "min    1488.000000   61.000000    2.540000    2.070000          7.000000   \n",
       "25%    2145.000000   97.000000    3.150000    3.110000          8.600000   \n",
       "50%    2414.000000  120.000000    3.310000    3.290000          9.000000   \n",
       "75%    2935.000000  141.000000    3.580000    3.410000          9.400000   \n",
       "max    4066.000000  326.000000    3.940000    4.170000         23.000000   \n",
       "\n",
       "       horsepower      peakrpm     citympg  highwaympg         price  \n",
       "count  205.000000   205.000000  205.000000  205.000000    205.000000  \n",
       "mean   104.117073  5125.121951   25.219512   30.751220  13276.710571  \n",
       "std     39.544167   476.985643    6.542142    6.886443   7988.852332  \n",
       "min     48.000000  4150.000000   13.000000   16.000000   5118.000000  \n",
       "25%     70.000000  4800.000000   19.000000   25.000000   7788.000000  \n",
       "50%     95.000000  5200.000000   24.000000   30.000000  10295.000000  \n",
       "75%    116.000000  5500.000000   30.000000   34.000000  16503.000000  \n",
       "max    288.000000  6600.000000   49.000000   54.000000  45400.000000  "
      ]
     },
     "execution_count": 10,
     "metadata": {},
     "output_type": "execute_result"
    }
   ],
   "source": [
    "data.describe()"
   ]
  },
  {
   "cell_type": "code",
   "execution_count": 11,
   "id": "84a84dcf",
   "metadata": {
    "scrolled": false
   },
   "outputs": [
    {
     "data": {
      "text/plain": [
       "{0: 'Nissan versa',\n",
       " 1: 'alfa-romero Quadrifoglio',\n",
       " 2: 'alfa-romero giulia',\n",
       " 3: 'alfa-romero stelvio',\n",
       " 4: 'audi 100 ls',\n",
       " 5: 'audi 100ls',\n",
       " 6: 'audi 4000',\n",
       " 7: 'audi 5000',\n",
       " 8: 'audi 5000s (diesel)',\n",
       " 9: 'audi fox',\n",
       " 10: 'bmw 320i',\n",
       " 11: 'bmw x1',\n",
       " 12: 'bmw x3',\n",
       " 13: 'bmw x4',\n",
       " 14: 'bmw x5',\n",
       " 15: 'bmw z4',\n",
       " 16: 'buick century',\n",
       " 17: 'buick century luxus (sw)',\n",
       " 18: 'buick century special',\n",
       " 19: 'buick electra 225 custom',\n",
       " 20: 'buick opel isuzu deluxe',\n",
       " 21: 'buick regal sport coupe (turbo)',\n",
       " 22: 'buick skyhawk',\n",
       " 23: 'buick skylark',\n",
       " 24: 'chevrolet impala',\n",
       " 25: 'chevrolet monte carlo',\n",
       " 26: 'chevrolet vega 2300',\n",
       " 27: 'dodge challenger se',\n",
       " 28: 'dodge colt (sw)',\n",
       " 29: 'dodge colt hardtop',\n",
       " 30: 'dodge coronet custom',\n",
       " 31: 'dodge coronet custom (sw)',\n",
       " 32: 'dodge d200',\n",
       " 33: 'dodge dart custom',\n",
       " 34: 'dodge monaco (sw)',\n",
       " 35: 'dodge rampage',\n",
       " 36: 'honda accord',\n",
       " 37: 'honda accord cvcc',\n",
       " 38: 'honda accord lx',\n",
       " 39: 'honda civic',\n",
       " 40: 'honda civic (auto)',\n",
       " 41: 'honda civic 1300',\n",
       " 42: 'honda civic 1500 gl',\n",
       " 43: 'honda civic cvcc',\n",
       " 44: 'honda prelude',\n",
       " 45: 'isuzu D-Max ',\n",
       " 46: 'isuzu D-Max V-Cross',\n",
       " 47: 'isuzu MU-X',\n",
       " 48: 'jaguar xf',\n",
       " 49: 'jaguar xj',\n",
       " 50: 'jaguar xk',\n",
       " 51: 'maxda glc deluxe',\n",
       " 52: 'maxda rx3',\n",
       " 53: 'mazda 626',\n",
       " 54: 'mazda glc',\n",
       " 55: 'mazda glc 4',\n",
       " 56: 'mazda glc custom',\n",
       " 57: 'mazda glc custom l',\n",
       " 58: 'mazda glc deluxe',\n",
       " 59: 'mazda rx-4',\n",
       " 60: 'mazda rx-7 gs',\n",
       " 61: 'mazda rx2 coupe',\n",
       " 62: 'mercury cougar',\n",
       " 63: 'mitsubishi g4',\n",
       " 64: 'mitsubishi lancer',\n",
       " 65: 'mitsubishi mirage',\n",
       " 66: 'mitsubishi mirage g4',\n",
       " 67: 'mitsubishi montero',\n",
       " 68: 'mitsubishi outlander',\n",
       " 69: 'mitsubishi pajero',\n",
       " 70: 'nissan clipper',\n",
       " 71: 'nissan dayz',\n",
       " 72: 'nissan fuga',\n",
       " 73: 'nissan gt-r',\n",
       " 74: 'nissan juke',\n",
       " 75: 'nissan kicks',\n",
       " 76: 'nissan latio',\n",
       " 77: 'nissan leaf',\n",
       " 78: 'nissan note',\n",
       " 79: 'nissan nv200',\n",
       " 80: 'nissan otti',\n",
       " 81: 'nissan rogue',\n",
       " 82: 'nissan teana',\n",
       " 83: 'nissan titan',\n",
       " 84: 'peugeot 304',\n",
       " 85: 'peugeot 504',\n",
       " 86: 'peugeot 504 (sw)',\n",
       " 87: 'peugeot 505s turbo diesel',\n",
       " 88: 'peugeot 604sl',\n",
       " 89: 'plymouth cricket',\n",
       " 90: 'plymouth duster',\n",
       " 91: 'plymouth fury gran sedan',\n",
       " 92: 'plymouth fury iii',\n",
       " 93: 'plymouth satellite custom (sw)',\n",
       " 94: 'plymouth valiant',\n",
       " 95: 'porcshce panamera',\n",
       " 96: 'porsche boxter',\n",
       " 97: 'porsche cayenne',\n",
       " 98: 'porsche macan',\n",
       " 99: 'renault 12tl',\n",
       " 100: 'renault 5 gtl',\n",
       " 101: 'saab 99e',\n",
       " 102: 'saab 99gle',\n",
       " 103: 'saab 99le',\n",
       " 104: 'subaru',\n",
       " 105: 'subaru baja',\n",
       " 106: 'subaru brz',\n",
       " 107: 'subaru dl',\n",
       " 108: 'subaru r1',\n",
       " 109: 'subaru r2',\n",
       " 110: 'subaru trezia',\n",
       " 111: 'subaru tribeca',\n",
       " 112: 'toyota carina',\n",
       " 113: 'toyota celica gt',\n",
       " 114: 'toyota celica gt liftback',\n",
       " 115: 'toyota corolla',\n",
       " 116: 'toyota corolla 1200',\n",
       " 117: 'toyota corolla 1600 (sw)',\n",
       " 118: 'toyota corolla liftback',\n",
       " 119: 'toyota corolla tercel',\n",
       " 120: 'toyota corona',\n",
       " 121: 'toyota corona hardtop',\n",
       " 122: 'toyota corona liftback',\n",
       " 123: 'toyota corona mark ii',\n",
       " 124: 'toyota cressida',\n",
       " 125: 'toyota mark ii',\n",
       " 126: 'toyota starlet',\n",
       " 127: 'toyota tercel',\n",
       " 128: 'toyouta tercel',\n",
       " 129: 'vokswagen rabbit',\n",
       " 130: 'volkswagen 1131 deluxe sedan',\n",
       " 131: 'volkswagen 411 (sw)',\n",
       " 132: 'volkswagen dasher',\n",
       " 133: 'volkswagen model 111',\n",
       " 134: 'volkswagen rabbit',\n",
       " 135: 'volkswagen rabbit custom',\n",
       " 136: 'volkswagen super beetle',\n",
       " 137: 'volkswagen type 3',\n",
       " 138: 'volvo 144ea',\n",
       " 139: 'volvo 145e (sw)',\n",
       " 140: 'volvo 244dl',\n",
       " 141: 'volvo 245',\n",
       " 142: 'volvo 246',\n",
       " 143: 'volvo 264gl',\n",
       " 144: 'volvo diesel',\n",
       " 145: 'vw dasher',\n",
       " 146: 'vw rabbit'}"
      ]
     },
     "execution_count": 11,
     "metadata": {},
     "output_type": "execute_result"
    }
   ],
   "source": [
    "encoder=LabelEncoder()\n",
    "data['CarName']= encoder.fit_transform(data['CarName'])\n",
    "CarName= {index: label for index, label in enumerate(encoder.classes_)}\n",
    "CarName"
   ]
  },
  {
   "cell_type": "code",
   "execution_count": 12,
   "id": "332086c8",
   "metadata": {},
   "outputs": [
    {
     "data": {
      "text/plain": [
       "{0: 'diesel', 1: 'gas'}"
      ]
     },
     "execution_count": 12,
     "metadata": {},
     "output_type": "execute_result"
    }
   ],
   "source": [
    "data['fueltype'] = encoder.fit_transform(data['fueltype'])\n",
    "fueltype = {index : label for index, label in enumerate(encoder.classes_)}\n",
    "fueltype"
   ]
  },
  {
   "cell_type": "code",
   "execution_count": 13,
   "id": "9c744728",
   "metadata": {},
   "outputs": [
    {
     "data": {
      "text/plain": [
       "{0: 'std', 1: 'turbo'}"
      ]
     },
     "execution_count": 13,
     "metadata": {},
     "output_type": "execute_result"
    }
   ],
   "source": [
    "data['aspiration'] = encoder.fit_transform(data['aspiration'])\n",
    "aspiration = {index : label for index, label in enumerate(encoder.classes_)}\n",
    "aspiration"
   ]
  },
  {
   "cell_type": "code",
   "execution_count": 14,
   "id": "1b1113b1",
   "metadata": {},
   "outputs": [
    {
     "data": {
      "text/plain": [
       "{0: 'four', 1: 'two'}"
      ]
     },
     "execution_count": 14,
     "metadata": {},
     "output_type": "execute_result"
    }
   ],
   "source": [
    "data['doornumber'] = encoder.fit_transform(data['doornumber'])\n",
    "doornumber = {index : label for index, label in enumerate(encoder.classes_)}\n",
    "doornumber"
   ]
  },
  {
   "cell_type": "code",
   "execution_count": 15,
   "id": "3c6d2c16",
   "metadata": {},
   "outputs": [
    {
     "data": {
      "text/plain": [
       "{0: 'convertible', 1: 'hardtop', 2: 'hatchback', 3: 'sedan', 4: 'wagon'}"
      ]
     },
     "execution_count": 15,
     "metadata": {},
     "output_type": "execute_result"
    }
   ],
   "source": [
    "data['carbody'] = encoder.fit_transform(data['carbody'])\n",
    "carbody = {index : label for index, label in enumerate(encoder.classes_)}\n",
    "carbody"
   ]
  },
  {
   "cell_type": "code",
   "execution_count": 16,
   "id": "a76b5f6a",
   "metadata": {},
   "outputs": [
    {
     "data": {
      "text/plain": [
       "{0: '4wd', 1: 'fwd', 2: 'rwd'}"
      ]
     },
     "execution_count": 16,
     "metadata": {},
     "output_type": "execute_result"
    }
   ],
   "source": [
    "data['drivewheel'] = encoder.fit_transform(data['drivewheel'])\n",
    "drivewheel = {index : label for index, label in enumerate(encoder.classes_)}\n",
    "drivewheel"
   ]
  },
  {
   "cell_type": "code",
   "execution_count": 17,
   "id": "66a6b626",
   "metadata": {},
   "outputs": [
    {
     "data": {
      "text/plain": [
       "{0: 'front', 1: 'rear'}"
      ]
     },
     "execution_count": 17,
     "metadata": {},
     "output_type": "execute_result"
    }
   ],
   "source": [
    "data['enginelocation'] = encoder.fit_transform(data['enginelocation'])\n",
    "enginelocation = {index : label for index, label in enumerate(encoder.classes_)}\n",
    "enginelocation"
   ]
  },
  {
   "cell_type": "code",
   "execution_count": 18,
   "id": "b4ca83e0",
   "metadata": {},
   "outputs": [
    {
     "data": {
      "text/plain": [
       "{0: 'dohc', 1: 'dohcv', 2: 'l', 3: 'ohc', 4: 'ohcf', 5: 'ohcv', 6: 'rotor'}"
      ]
     },
     "execution_count": 18,
     "metadata": {},
     "output_type": "execute_result"
    }
   ],
   "source": [
    "data['enginetype'] = encoder.fit_transform(data['enginetype'])\n",
    "enginetype = {index : label for index, label in enumerate(encoder.classes_)}\n",
    "enginetype"
   ]
  },
  {
   "cell_type": "code",
   "execution_count": 19,
   "id": "f13f99ff",
   "metadata": {},
   "outputs": [
    {
     "data": {
      "text/plain": [
       "{0: 'eight', 1: 'five', 2: 'four', 3: 'six', 4: 'three', 5: 'twelve', 6: 'two'}"
      ]
     },
     "execution_count": 19,
     "metadata": {},
     "output_type": "execute_result"
    }
   ],
   "source": [
    "data['cylindernumber'] = encoder.fit_transform(data['cylindernumber'])\n",
    "cylindernumber = {index : label for index, label in enumerate(encoder.classes_)}\n",
    "cylindernumber"
   ]
  },
  {
   "cell_type": "code",
   "execution_count": 20,
   "id": "8b0a4ecf",
   "metadata": {
    "scrolled": true
   },
   "outputs": [
    {
     "data": {
      "text/plain": [
       "{0: '1bbl',\n",
       " 1: '2bbl',\n",
       " 2: '4bbl',\n",
       " 3: 'idi',\n",
       " 4: 'mfi',\n",
       " 5: 'mpfi',\n",
       " 6: 'spdi',\n",
       " 7: 'spfi'}"
      ]
     },
     "execution_count": 20,
     "metadata": {},
     "output_type": "execute_result"
    }
   ],
   "source": [
    "data['fuelsystem'] = encoder.fit_transform(data['fuelsystem'])\n",
    "fuelsystem = {index : label for index, label in enumerate(encoder.classes_)}\n",
    "fuelsystem"
   ]
  },
  {
   "cell_type": "code",
   "execution_count": 23,
   "id": "8b124339",
   "metadata": {},
   "outputs": [],
   "source": [
    "x=data.drop('price', axis=1)\n",
    "y=data['price']"
   ]
  },
  {
   "cell_type": "code",
   "execution_count": 24,
   "id": "ea045a1a",
   "metadata": {},
   "outputs": [
    {
     "name": "stdout",
     "output_type": "stream",
     "text": [
      "x \n",
      " [[0.         1.         0.01369863 ... 0.34693878 0.22222222 0.28947368]\n",
      " [0.00490196 1.         0.02054795 ... 0.34693878 0.22222222 0.28947368]\n",
      " [0.00980392 0.6        0.00684932 ... 0.34693878 0.16666667 0.26315789]\n",
      " ...\n",
      " [0.99019608 0.2        0.95890411 ... 0.55102041 0.13888889 0.18421053]\n",
      " [0.99509804 0.2        0.97260274 ... 0.26530612 0.36111111 0.28947368]\n",
      " [1.         0.2        0.97945205 ... 0.51020408 0.16666667 0.23684211]]\n",
      "y \n",
      " 0      13495.0\n",
      "1      16500.0\n",
      "2      16500.0\n",
      "3      13950.0\n",
      "4      17450.0\n",
      "        ...   \n",
      "200    16845.0\n",
      "201    19045.0\n",
      "202    21485.0\n",
      "203    22470.0\n",
      "204    22625.0\n",
      "Name: price, Length: 205, dtype: float64\n"
     ]
    }
   ],
   "source": [
    "scaler=MinMaxScaler(copy=True, feature_range=(0,1))\n",
    "X=scaler.fit_transform(x)\n",
    "print('x \\n' , X[:206])\n",
    "print('y \\n' , y[:206])"
   ]
  },
  {
   "cell_type": "code",
   "execution_count": 28,
   "id": "14dde652",
   "metadata": {},
   "outputs": [],
   "source": [
    "x_train, x_test, y_train, y_test= train_test_split(x,y,test_size=30 ,random_state=0)"
   ]
  },
  {
   "cell_type": "code",
   "execution_count": 30,
   "id": "3d213201",
   "metadata": {},
   "outputs": [
    {
     "name": "stdout",
     "output_type": "stream",
     "text": [
      "X-train shape is : (175, 25)\n"
     ]
    }
   ],
   "source": [
    "print(\"X-train shape is :\", x_train.shape)"
   ]
  },
  {
   "cell_type": "code",
   "execution_count": 32,
   "id": "a89ec0d8",
   "metadata": {},
   "outputs": [
    {
     "name": "stdout",
     "output_type": "stream",
     "text": [
      "X-test shape is : (30, 25)\n"
     ]
    }
   ],
   "source": [
    "print(\"X-test shape is :\", x_test.shape)"
   ]
  },
  {
   "cell_type": "code",
   "execution_count": 33,
   "id": "a0f33ae0",
   "metadata": {},
   "outputs": [
    {
     "name": "stdout",
     "output_type": "stream",
     "text": [
      "Y-train shape is : (175,)\n"
     ]
    }
   ],
   "source": [
    "print(\"Y-train shape is :\", y_train.shape)"
   ]
  },
  {
   "cell_type": "code",
   "execution_count": 34,
   "id": "9ff31fb1",
   "metadata": {},
   "outputs": [
    {
     "name": "stdout",
     "output_type": "stream",
     "text": [
      "Y-test shape is : (30,)\n"
     ]
    }
   ],
   "source": [
    "print(\"Y-test shape is :\", y_test.shape)"
   ]
  },
  {
   "cell_type": "code",
   "execution_count": 35,
   "id": "c4528e76",
   "metadata": {},
   "outputs": [
    {
     "name": "stdout",
     "output_type": "stream",
     "text": [
      "DecisionTreeRegressor Train score is:  0.9730170115084147\n",
      "DecisionTreeRegressor Test score is:  0.8421309794013154\n"
     ]
    }
   ],
   "source": [
    "DecisionTreeRegressorModel=DecisionTreeRegressor(max_depth=5, random_state=33)\n",
    "DecisionTreeRegressorModel.fit(x_train, y_train)\n",
    "print(\"DecisionTreeRegressor Train score is: \", DecisionTreeRegressorModel.score(x_train, y_train))\n",
    "print(\"DecisionTreeRegressor Test score is: \", DecisionTreeRegressorModel.score(x_test, y_test))"
   ]
  },
  {
   "cell_type": "code",
   "execution_count": 37,
   "id": "74221870",
   "metadata": {},
   "outputs": [
    {
     "name": "stdout",
     "output_type": "stream",
     "text": [
      "Predicted Value for DecisionTreeRegressorModel is :  [ 6123.125      15558.5104375  13950.          6123.125\n",
      "  9575.70588235 15558.5104375   6123.125       7208.25\n",
      " 15558.5104375   6123.125      19476.1        34833.77777778\n",
      " 13711.66666667 14561.57894737  7208.25       15558.5104375\n",
      " 14561.57894737 17710.          7790.21875     6123.125\n",
      "  9575.70588235 14561.57894737  9575.70588235 15558.5104375\n",
      " 15558.5104375   7790.21875     7790.21875    14561.57894737\n",
      "  7790.21875     7790.21875   ]\n"
     ]
    }
   ],
   "source": [
    "y_predict=DecisionTreeRegressorModel.predict(x_test)\n",
    "print('Predicted Value for DecisionTreeRegressorModel is : ' , y_predict[:206])"
   ]
  },
  {
   "cell_type": "code",
   "execution_count": 38,
   "id": "0795e754",
   "metadata": {},
   "outputs": [
    {
     "name": "stdout",
     "output_type": "stream",
     "text": [
      "Random Forest Regressor Train Score is :  0.9902196358021049\n",
      "Random Forest Regressor Test Score is :  0.8962816585441333\n",
      "Random Forest Regressor No. of features are :  25\n",
      "----------------------------------------------------\n",
      "Predicted Value for Random Forest Regressor is :  [ 5976.14516667 16485.88941667 14478.915       5908.45\n",
      "  9955.61470238 14229.31729167  5951.056       7636.78301587\n",
      " 18419.43334     6749.74585714]\n"
     ]
    }
   ],
   "source": [
    "RandomForestRegressorModel = RandomForestRegressor(n_estimators=100,max_depth=11, random_state=33)\n",
    "RandomForestRegressorModel.fit(x_train, y_train)\n",
    "\n",
    "print('Random Forest Regressor Train Score is : ' , RandomForestRegressorModel.score(x_train, y_train))\n",
    "print('Random Forest Regressor Test Score is : ' , RandomForestRegressorModel.score(x_test, y_test))\n",
    "print('Random Forest Regressor No. of features are : ' , RandomForestRegressorModel.n_features_)\n",
    "print('----------------------------------------------------')\n",
    "\n",
    "y_pred = RandomForestRegressorModel.predict(x_test)\n",
    "print('Predicted Value for Random Forest Regressor is : ' , y_pred[:10])"
   ]
  },
  {
   "cell_type": "code",
   "execution_count": 39,
   "id": "85022275",
   "metadata": {},
   "outputs": [
    {
     "name": "stdout",
     "output_type": "stream",
     "text": [
      "Mean Squared Error Value is :  3525489.5043689557\n"
     ]
    }
   ],
   "source": [
    "MSEValue = mean_squared_error(y_test, y_pred, multioutput='uniform_average') # it can be raw_values\n",
    "print('Mean Squared Error Value is : ', MSEValue)"
   ]
  },
  {
   "cell_type": "code",
   "execution_count": null,
   "id": "92983536",
   "metadata": {},
   "outputs": [],
   "source": []
  }
 ],
 "metadata": {
  "kernelspec": {
   "display_name": "Python 3",
   "language": "python",
   "name": "python3"
  },
  "language_info": {
   "codemirror_mode": {
    "name": "ipython",
    "version": 3
   },
   "file_extension": ".py",
   "mimetype": "text/x-python",
   "name": "python",
   "nbconvert_exporter": "python",
   "pygments_lexer": "ipython3",
   "version": "3.8.8"
  }
 },
 "nbformat": 4,
 "nbformat_minor": 5
}
